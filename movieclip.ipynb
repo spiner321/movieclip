{
 "cells": [
  {
   "cell_type": "code",
   "execution_count": null,
   "id": "f8096dd5",
   "metadata": {},
   "outputs": [],
   "source": [
    "import os\n",
    "import shutil\n",
    "import ffmpeg\n",
    "\n",
    "# 1번과 2번 파일 경로\n",
    "file1 = \"/mnt/d/workspace/나인 솔즈 6화 (진 엔딩：후예사일(Shooting Star)).mkv\"   # 첫 번째 파일 (MKV)\n",
    "file2 = \"/mnt/d/workspace/화면 녹화 중 2025-06-03 183906.mp4\"   # 두 번째 파일 (MP4)\n",
    "\n",
    "# file1을 자를 기준 타임스탬프 (HH:MM:SS)\n",
    "split_ts = \"02:51:26\"\n",
    "\n",
    "# 임시 폴더 생성\n",
    "temp_dir = \"temp_parts\"\n",
    "os.makedirs(temp_dir, exist_ok=True)\n",
    "\n",
    "# 1) file1 앞구간: 0 ~ split_ts\n",
    "part1 = os.path.join(temp_dir, \"part1.mp4\")\n",
    "(\n",
    "    ffmpeg\n",
    "    .input(file1, ss=0, to=split_ts, fflags=\"+genpts\", avoid_negative_ts=\"make_zero\")\n",
    "    .output(part1, c=\"copy\", fflags=\"+genpts\", avoid_negative_ts=\"make_zero\")\n",
    "    .run(overwrite_output=True)\n",
    ")\n",
    "\n",
    "# 2) file1 뒷구간: split_ts ~ 끝\n",
    "part3 = os.path.join(temp_dir, \"part3.mp4\")\n",
    "(\n",
    "    ffmpeg\n",
    "    .input(file1, ss=split_ts, fflags=\"+genpts\", avoid_negative_ts=\"make_zero\")\n",
    "    .output(part3, c=\"copy\", fflags=\"+genpts\", avoid_negative_ts=\"make_zero\")\n",
    "    .run(overwrite_output=True)\n",
    ")\n",
    "\n",
    "# 3) file2를 그대로 part2로 복사 (이미 MP4이므로 컨테이너만 복사)\n",
    "part2 = os.path.join(temp_dir, \"part2.mp4\")\n",
    "shutil.copyfile(file2, part2)\n",
    "\n",
    "# 4) concat_list.txt 생성 (절대 경로, single-quote로 감싸기)\n",
    "concat_txt = os.path.join(temp_dir, \"concat_list.txt\")\n",
    "with open(concat_txt, \"w\", encoding=\"utf-8\") as f:\n",
    "    for p in [part1, part2, part3]:\n",
    "        f.write(f\"file '{os.path.abspath(p)}'\\n\")\n",
    "\n",
    "# 5) 세 파트를 A→B→C 순으로 이어붙이기 (concat 단계에도 genpts/avoid_negative_ts 지정)\n",
    "merged = \"merged.mp4\"\n",
    "(\n",
    "    ffmpeg\n",
    "    .input(concat_txt, format=\"concat\", safe=0, fflags=\"+genpts\", avoid_negative_ts=\"make_zero\")\n",
    "    .output(merged, c=\"copy\", fflags=\"+genpts\", avoid_negative_ts=\"make_zero\")\n",
    "    .run(overwrite_output=True)\n",
    ")\n",
    "\n",
    "print(\"✅ 편집 완료:\", merged)\n"
   ]
  }
 ],
 "metadata": {
  "kernelspec": {
   "display_name": "base",
   "language": "python",
   "name": "python3"
  },
  "language_info": {
   "codemirror_mode": {
    "name": "ipython",
    "version": 3
   },
   "file_extension": ".py",
   "mimetype": "text/x-python",
   "name": "python",
   "nbconvert_exporter": "python",
   "pygments_lexer": "ipython3",
   "version": "3.13.2"
  }
 },
 "nbformat": 4,
 "nbformat_minor": 5
}
